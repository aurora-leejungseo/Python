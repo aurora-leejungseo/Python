{
 "cells": [
  {
   "cell_type": "code",
   "execution_count": 1,
   "metadata": {},
   "outputs": [],
   "source": [
    "Text1 = \" python programming \""
   ]
  },
  {
   "cell_type": "code",
   "execution_count": 2,
   "metadata": {},
   "outputs": [
    {
     "name": "stdout",
     "output_type": "stream",
     "text": [
      "g\n"
     ]
    }
   ],
   "source": [
    "#1. 'g'를 출력하세요\n",
    "print (Text1 [-2])"
   ]
  },
  {
   "cell_type": "code",
   "execution_count": 3,
   "metadata": {},
   "outputs": [
    {
     "name": "stdout",
     "output_type": "stream",
     "text": [
      "pro\n"
     ]
    }
   ],
   "source": [
    "#2. 'pro'를 출력하세요\n",
    "print (Text1 [8:11])"
   ]
  },
  {
   "cell_type": "code",
   "execution_count": 4,
   "metadata": {},
   "outputs": [
    {
     "name": "stdout",
     "output_type": "stream",
     "text": [
      "True\n"
     ]
    }
   ],
   "source": [
    "#3. 'gram'이 포함되어있는지 확인하세요\n",
    "print ( 'gram' in Text1 )"
   ]
  },
  {
   "cell_type": "code",
   "execution_count": 5,
   "metadata": {},
   "outputs": [
    {
     "name": "stdout",
     "output_type": "stream",
     "text": [
      " PYTHON PROGRAMMING \n"
     ]
    }
   ],
   "source": [
    "#4. 모두 대문자로 바꾸세요\n",
    "print (Text1.upper())"
   ]
  },
  {
   "cell_type": "code",
   "execution_count": 6,
   "metadata": {},
   "outputs": [
    {
     "name": "stdout",
     "output_type": "stream",
     "text": [
      "2\n"
     ]
    }
   ],
   "source": [
    "#5. 'p' 자의 개수를 출력하세요\n",
    "print (Text1. count('p'))"
   ]
  },
  {
   "cell_type": "code",
   "execution_count": 7,
   "metadata": {},
   "outputs": [
    {
     "name": "stdout",
     "output_type": "stream",
     "text": [
      "['python', 'programming']\n"
     ]
    }
   ],
   "source": [
    "#6. 스페이스(공백)을 기준으로 분리하세요\n",
    "Text = Text1.split( )\n",
    "print(Text)"
   ]
  },
  {
   "cell_type": "code",
   "execution_count": 8,
   "metadata": {},
   "outputs": [
    {
     "name": "stdout",
     "output_type": "stream",
     "text": [
      "python-programming\n"
     ]
    }
   ],
   "source": [
    "#7. '-'를 기준으로 두 단어를 연결하세요\n",
    "print('-'.join(Text))"
   ]
  },
  {
   "cell_type": "code",
   "execution_count": 9,
   "metadata": {},
   "outputs": [
    {
     "name": "stdout",
     "output_type": "stream",
     "text": [
      "python programming\n"
     ]
    }
   ],
   "source": [
    "#8. 양쪽의 공백을 제거하세요\n",
    "print (Text1.strip())"
   ]
  },
  {
   "cell_type": "code",
   "execution_count": 10,
   "metadata": {},
   "outputs": [
    {
     "name": "stdout",
     "output_type": "stream",
     "text": [
      " hello programming \n"
     ]
    }
   ],
   "source": [
    "#9. 'python'을 'hello'로 바꾸세요\n",
    "print( Text1.replace('python', 'hello') )"
   ]
  },
  {
   "cell_type": "code",
   "execution_count": 11,
   "metadata": {},
   "outputs": [
    {
     "data": {
      "text/plain": [
       "'00000000hi'"
      ]
     },
     "execution_count": 11,
     "metadata": {},
     "output_type": "execute_result"
    }
   ],
   "source": [
    "#10.정렬하기 (10자리를 잡고 공백은 0으로 채우세요)\n",
    "'hi'.zfill(10)"
   ]
  },
  {
   "cell_type": "code",
   "execution_count": 12,
   "metadata": {},
   "outputs": [],
   "source": [
    "lang = \"Python progarmming language\""
   ]
  },
  {
   "cell_type": "code",
   "execution_count": 13,
   "metadata": {},
   "outputs": [
    {
     "name": "stdout",
     "output_type": "stream",
     "text": [
      "yhnp\n"
     ]
    }
   ],
   "source": [
    "#11. 1번째 자리부터 7번째 자리까지 간격 2로 출력하세요\n",
    "print (lang[1:8:2])"
   ]
  },
  {
   "cell_type": "code",
   "execution_count": 14,
   "metadata": {},
   "outputs": [
    {
     "name": "stdout",
     "output_type": "stream",
     "text": [
      "Python progarmming language\n"
     ]
    }
   ],
   "source": [
    "#12. 문장의 첫번째 글자만 대문자로 바꾸세요\n",
    "print (lang.capitalize())"
   ]
  },
  {
   "cell_type": "code",
   "execution_count": 15,
   "metadata": {},
   "outputs": [
    {
     "name": "stdout",
     "output_type": "stream",
     "text": [
      "Python Progarmming Language\n"
     ]
    }
   ],
   "source": [
    "#13. 각 단어의 첫번째 글자만 대문자로 바꾸세요\n",
    "print (lang.title())"
   ]
  },
  {
   "cell_type": "code",
   "execution_count": 16,
   "metadata": {},
   "outputs": [
    {
     "name": "stdout",
     "output_type": "stream",
     "text": [
      "8\n"
     ]
    }
   ],
   "source": [
    "#14. 'r'이 몇번째 자리에 들어있는지 찾으세요\n",
    "print(lang.find('r'))\n",
    "## find는 첫번째 등장하는 값의 인덱스만 알려준다"
   ]
  },
  {
   "cell_type": "code",
   "execution_count": 60,
   "metadata": {},
   "outputs": [
    {
     "name": "stdout",
     "output_type": "stream",
     "text": [
      "python progarmming language\n",
      "[0, 7]\n"
     ]
    }
   ],
   "source": [
    "#14-1. 'r'이 몇번째 자리에 등장하는지 찾으시오(모든 값 출력하기) with While문\n",
    "\n",
    "lang = lang.lower()\n",
    "print (lang)\n",
    "\n",
    "index = []  #빈 리스트 생성, 이후에 출력되는 인덱스 값들을 모두 리스트에 넣어주기 위함\n",
    "i = 0\n",
    "\n",
    "while True :   \n",
    "    # while True: 계속 도는 구문, while 상수값 => 상수값은 True이기 때문에 계속 무한반복하는 구문이 된다\n",
    "    i = lang.find ('p', i)   #lang.find('r', i): i번째 이후로 처음 등장하는 r의 인덱스값을 출력하라\n",
    "    if i >= 0:\n",
    "        index.append(i)\n",
    "        i += 1  # i값에 1을 더하고 1을 더한 값을 다시 i에 넣어준다\n",
    "    else :\n",
    "        break\n",
    "        \n",
    "print(index)\n"
   ]
  },
  {
   "cell_type": "code",
   "execution_count": 61,
   "metadata": {},
   "outputs": [
    {
     "name": "stdout",
     "output_type": "stream",
     "text": [
      "python progarmming language\n",
      "[0, 7]\n"
     ]
    }
   ],
   "source": [
    "#14-1. 'r'이 몇번째 자리에 등장하는지 찾으시오(모든 값 출력하기) with For문\n",
    "\n",
    "lang = lang.lower()\n",
    "print (lang)\n",
    "\n",
    "index = []  #빈 리스트 생성, 이후에 출력되는 인덱스 값들을 모두 리스트에 넣어주기 위함\n",
    "indexing = 0 \n",
    "\n",
    "for i in lang:\n",
    "    if i == 'p':\n",
    "        index.append(indexing)\n",
    "    indexing += 1 \n",
    "    \n",
    "print (index)\n"
   ]
  },
  {
   "cell_type": "code",
   "execution_count": 65,
   "metadata": {},
   "outputs": [
    {
     "data": {
      "text/plain": [
       "6"
      ]
     },
     "execution_count": 65,
     "metadata": {},
     "output_type": "execute_result"
    }
   ],
   "source": [
    "#15. index찾기-오른쪽을 우선으로\n",
    "'abcdefcd'.rfind('cd')  #오른쪽부터 'cd'가 시작되는 지점의 인덱스 찾기"
   ]
  },
  {
   "cell_type": "code",
   "execution_count": 64,
   "metadata": {},
   "outputs": [
    {
     "data": {
      "text/plain": [
       "'name: Alice,  phone: 010-123-4567'"
      ]
     },
     "execution_count": 64,
     "metadata": {},
     "output_type": "execute_result"
    }
   ],
   "source": [
    "#16. format 활용\n",
    "'name: {},  phone: {}'. format('Alice', '010-123-4567')"
   ]
  },
  {
   "cell_type": "code",
   "execution_count": 66,
   "metadata": {},
   "outputs": [],
   "source": [
    "fruit = 'apple banana grapes, orange, tomato, melon, lemon, watermelon'"
   ]
  },
  {
   "cell_type": "code",
   "execution_count": 75,
   "metadata": {},
   "outputs": [
    {
     "name": "stdout",
     "output_type": "stream",
     "text": [
      "['apple', 'banana', 'grapes,', 'orange,', 'tomato,', 'melon,', 'lemon,', 'watermelon']\n",
      "['apple banana grapes', ' orange', ' tomato', ' melon', ' lemon', ' watermelon']\n",
      "['apple banana grapes', ' orange', ' tomato, melon, lemon, watermelon']\n",
      "['apple banana grapes, orange, tomato, melon', ' lemon', ' watermelon']\n"
     ]
    }
   ],
   "source": [
    "#17. string 분리\n",
    "\n",
    "print(fruit.split( ))\n",
    "\n",
    "print(fruit.split(','))\n",
    "\n",
    "print(fruit.split(',' , 2))  # ' , '를 기준으로 2번 나누어라\n",
    "\n",
    "print(fruit.rsplit(',' , 2)) # 오른쪽부터 ' , '를 기준으로 2번 나누어라"
   ]
  },
  {
   "cell_type": "code",
   "execution_count": 76,
   "metadata": {},
   "outputs": [
    {
     "data": {
      "text/plain": [
       "['hello world ', ' hi world ', ' hello land']"
      ]
     },
     "execution_count": 76,
     "metadata": {},
     "output_type": "execute_result"
    }
   ],
   "source": [
    "#18. 줄바꿈\n",
    "'hello world \\n hi world \\n hello land'.splitlines()  #\\n = Enter 줄바꿈"
   ]
  },
  {
   "cell_type": "code",
   "execution_count": 77,
   "metadata": {},
   "outputs": [
    {
     "data": {
      "text/plain": [
       "[' ', 'd', 'e', 'h', 'l', 'l', 'o', 'o', 'r', 'w']"
      ]
     },
     "execution_count": 77,
     "metadata": {},
     "output_type": "execute_result"
    }
   ],
   "source": [
    "#19. 정렬하기\n",
    "sorted ( 'hello word' )"
   ]
  },
  {
   "cell_type": "code",
   "execution_count": 79,
   "metadata": {},
   "outputs": [
    {
     "data": {
      "text/plain": [
       "['w', 'r', 'o', 'o', 'l', 'l', 'h', 'e', 'd', ' ']"
      ]
     },
     "execution_count": 79,
     "metadata": {},
     "output_type": "execute_result"
    }
   ],
   "source": [
    "#19-1 역순으로 정렬하기\n",
    "sorted ( 'hello word' , reverse = True )"
   ]
  },
  {
   "cell_type": "code",
   "execution_count": 81,
   "metadata": {},
   "outputs": [],
   "source": [
    "txt1 = \"A tale that was not right\"\n",
    "txt2 = '이또한 지나가리라'"
   ]
  },
  {
   "cell_type": "code",
   "execution_count": 82,
   "metadata": {},
   "outputs": [
    {
     "name": "stdout",
     "output_type": "stream",
     "text": [
      "Atl htwsntrgt\n"
     ]
    }
   ],
   "source": [
    "#20. slicing with steps\n",
    "ret = txt1 [::2]  #문장 전체를 간격2로 출력하라\n",
    "print (ret)"
   ]
  },
  {
   "cell_type": "code",
   "execution_count": 86,
   "metadata": {},
   "outputs": [
    {
     "name": "stdout",
     "output_type": "stream",
     "text": [
      "thgir ton saw taht elat A\n",
      "tgrtnswth ltA\n"
     ]
    }
   ],
   "source": [
    "#20-1 slicing with reverse steps\n",
    "ret1 = txt1 [::-1] # 역순으로 출력하라\n",
    "print(ret1)\n",
    "\n",
    "ret2 = txt1 [::-2] #역순으로 간격2로 출력하라\n",
    "print(ret2)"
   ]
  },
  {
   "cell_type": "code",
   "execution_count": 91,
   "metadata": {},
   "outputs": [
    {
     "name": "stdout",
     "output_type": "stream",
     "text": [
      "<           양쪽에 공백이 있는 문자열입니다.  >\n",
      "<양쪽에 공백이 있는 문자열입니다.  >\n",
      "<           양쪽에 공백이 있는 문자열입니다.>\n",
      "<양쪽에 공백이 있는 문자열입니다.>\n"
     ]
    }
   ],
   "source": [
    "#21. 공백없애기\n",
    "txt = '           양쪽에 공백이 있는 문자열입니다.  '\n",
    "print('<'+txt+'>')\n",
    "print('<'+txt.lstrip()+'>')\n",
    "print('<'+txt.rstrip()+'>')\n",
    "print('<'+txt.strip()+'>')"
   ]
  },
  {
   "cell_type": "code",
   "execution_count": 95,
   "metadata": {},
   "outputs": [
    {
     "name": "stdout",
     "output_type": "stream",
     "text": [
      "3\n",
      "2\n",
      "8\n"
     ]
    }
   ],
   "source": [
    "#22. 단어 출현 횟수 세기\n",
    "txt3 = 'A lot of things occur each day, every day.'\n",
    "print( txt3.count('o'))\n",
    "print( txt3.count('day'))\n",
    "print( txt3.count(' '))"
   ]
  },
  {
   "cell_type": "code",
   "execution_count": null,
   "metadata": {},
   "outputs": [],
   "source": []
  }
 ],
 "metadata": {
  "kernelspec": {
   "display_name": "Python 3",
   "language": "python",
   "name": "python3"
  },
  "language_info": {
   "codemirror_mode": {
    "name": "ipython",
    "version": 3
   },
   "file_extension": ".py",
   "mimetype": "text/x-python",
   "name": "python",
   "nbconvert_exporter": "python",
   "pygments_lexer": "ipython3",
   "version": "3.7.1"
  }
 },
 "nbformat": 4,
 "nbformat_minor": 2
}
