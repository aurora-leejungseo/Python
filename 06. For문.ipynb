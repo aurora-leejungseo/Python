{
 "cells": [
  {
   "cell_type": "markdown",
   "metadata": {},
   "source": [
    "# 파이썬 for 반복문"
   ]
  },
  {
   "cell_type": "markdown",
   "metadata": {},
   "source": [
    "명령이 반복되도록하는 for 반복문(loop)을 사용할 수 있다"
   ]
  },
  {
   "cell_type": "markdown",
   "metadata": {},
   "source": [
    "for 카운터변수 in range(반복횟수):\n",
    "\n",
    "    반복해서 실행할 명령"
   ]
  },
  {
   "cell_type": "markdown",
   "metadata": {},
   "source": [
    "반복횟수는 10, 100과 같은 양의 정수이어야 하고 카운터 변수의 이름은 아무거나 상관없지만 보통 i 또는 j라는 변수를 자주 사용한다"
   ]
  },
  {
   "cell_type": "markdown",
   "metadata": {},
   "source": [
    "카운터 변수는 반복 실행될 때마다 현재의 실행 횟수에 해당하는 숫자가 들어가게 되는데, 가장 처음 실행할때는 아직 한 번도 실행한 적이 없기 때문에 0이 된다"
   ]
  },
  {
   "cell_type": "code",
   "execution_count": 1,
   "metadata": {},
   "outputs": [
    {
     "name": "stdout",
     "output_type": "stream",
     "text": [
      "0\n",
      "1\n",
      "2\n",
      "3\n",
      "4\n",
      "5\n",
      "6\n",
      "7\n",
      "8\n",
      "9\n"
     ]
    }
   ],
   "source": [
    "for i in range (10):\n",
    "    print (i)"
   ]
  },
  {
   "cell_type": "code",
   "execution_count": 2,
   "metadata": {},
   "outputs": [],
   "source": [
    "# computational thinking 에서 모음만 출력하기"
   ]
  },
  {
   "cell_type": "code",
   "execution_count": 3,
   "metadata": {},
   "outputs": [
    {
     "name": "stdout",
     "output_type": "stream",
     "text": [
      "o\n",
      "u\n",
      "a\n",
      "i\n",
      "o\n",
      "a\n",
      "i\n",
      "i\n"
     ]
    }
   ],
   "source": [
    "x = \"computational thinking\"\n",
    "for i in x :\n",
    "    if i in ['a','e','i','o','u']:\n",
    "        print(i)"
   ]
  },
  {
   "cell_type": "code",
   "execution_count": 4,
   "metadata": {},
   "outputs": [],
   "source": [
    "# list comprehention"
   ]
  },
  {
   "cell_type": "code",
   "execution_count": 5,
   "metadata": {},
   "outputs": [
    {
     "name": "stdout",
     "output_type": "stream",
     "text": [
      "[(0, 5), (0, 6), (0, 7), (0, 8), (0, 9), (0, 10), (1, 5), (1, 6), (1, 7), (1, 8), (1, 9), (1, 10), (2, 5), (2, 6), (2, 7), (2, 8), (2, 9), (2, 10), (3, 5), (3, 6), (3, 7), (3, 8), (3, 9), (3, 10), (4, 5), (4, 6), (4, 7), (4, 8), (4, 9), (4, 10)]\n"
     ]
    }
   ],
   "source": [
    "x = [0,1,2,3,4]\n",
    "y = [5,6,7,8,9,10]\n",
    "print ([(i,j) for i in x for j in y])"
   ]
  },
  {
   "cell_type": "code",
   "execution_count": 6,
   "metadata": {},
   "outputs": [],
   "source": [
    "# 빈 리스트를 만들고, 조건에 해당하는 값을 리스트에 채워넣어 결과값 리스트로 출력하기"
   ]
  },
  {
   "cell_type": "code",
   "execution_count": 7,
   "metadata": {},
   "outputs": [
    {
     "name": "stdout",
     "output_type": "stream",
     "text": [
      "[0, 2, 4, 6, 8]\n"
     ]
    }
   ],
   "source": [
    "x = []\n",
    "for i in range (10):\n",
    "    if i % 2 == 0 :\n",
    "        x.append(i)\n",
    "print (x)"
   ]
  },
  {
   "cell_type": "code",
   "execution_count": 8,
   "metadata": {},
   "outputs": [],
   "source": [
    "# 1에서 10까지의 숫자에서 for 문과 continue와 break 활용, [5,6,7] 출력하기"
   ]
  },
  {
   "cell_type": "code",
   "execution_count": 9,
   "metadata": {},
   "outputs": [
    {
     "name": "stdout",
     "output_type": "stream",
     "text": [
      "[5, 6, 7]\n"
     ]
    }
   ],
   "source": [
    "a = []\n",
    "for i in range (1, 11):\n",
    "    if i < 5 :\n",
    "        continue\n",
    "    elif i > 7 :\n",
    "        break\n",
    "    else:\n",
    "        a.append(i)\n",
    "        \n",
    "print(a)"
   ]
  },
  {
   "cell_type": "code",
   "execution_count": 10,
   "metadata": {},
   "outputs": [],
   "source": [
    "# 5과목의 평균 점수를 계산하기"
   ]
  },
  {
   "cell_type": "code",
   "execution_count": 11,
   "metadata": {},
   "outputs": [
    {
     "name": "stdin",
     "output_type": "stream",
     "text": [
      "점수를 입력하세요 : 90\n",
      "점수를 입력하세요 : 98\n",
      "점수를 입력하세요 : 86\n",
      "점수를 입력하세요 : 84\n",
      "점수를 입력하세요 : 92\n"
     ]
    },
    {
     "name": "stdout",
     "output_type": "stream",
     "text": [
      "평균 점수는 : 90.0\n"
     ]
    }
   ],
   "source": [
    "total = 0\n",
    "count = 1\n",
    "\n",
    "while count <= 5 :\n",
    "    grade = int (input ('점수를 입력하세요 :'))\n",
    "    total += grade\n",
    "    count += 1\n",
    "\n",
    "average = total / 5\n",
    "\n",
    "print (\"평균 점수는 :\", average)"
   ]
  },
  {
   "cell_type": "markdown",
   "metadata": {},
   "source": [
    "팩토리얼을 while문으로"
   ]
  },
  {
   "cell_type": "code",
   "execution_count": 12,
   "metadata": {},
   "outputs": [
    {
     "name": "stdin",
     "output_type": "stream",
     "text": [
      "숫자를 입력하세요: 5\n"
     ]
    },
    {
     "name": "stdout",
     "output_type": "stream",
     "text": [
      "5 ! : 120\n"
     ]
    }
   ],
   "source": [
    "number = int (input (\"숫자를 입력하세요:\"))\n",
    "count = number\n",
    "result = 1\n",
    "\n",
    "while count > 1 :\n",
    "    result *= count\n",
    "    count -= 1\n",
    "    \n",
    "print (str(number),\"! :\", result)"
   ]
  },
  {
   "cell_type": "code",
   "execution_count": 13,
   "metadata": {},
   "outputs": [],
   "source": [
    "# continue 를 이용해서 홀수만 출력 "
   ]
  },
  {
   "cell_type": "code",
   "execution_count": 14,
   "metadata": {},
   "outputs": [
    {
     "name": "stdout",
     "output_type": "stream",
     "text": [
      "[1, 3, 5, 7, 9]\n"
     ]
    }
   ],
   "source": [
    "x = [1,2,3,4,5,6,7,8,9,10]\n",
    "\n",
    "a = []\n",
    "\n",
    "for i in x:\n",
    "    if i % 2 == 0 :\n",
    "        continue\n",
    "    else :\n",
    "        a.append(i)\n",
    "\n",
    "print (a)"
   ]
  },
  {
   "cell_type": "code",
   "execution_count": 15,
   "metadata": {},
   "outputs": [],
   "source": [
    "# 입력받은 수까지 홀수합, 짝수합을 구하기"
   ]
  },
  {
   "cell_type": "code",
   "execution_count": 16,
   "metadata": {},
   "outputs": [
    {
     "name": "stdin",
     "output_type": "stream",
     "text": [
      "숫자를 입력하세요:  10\n"
     ]
    },
    {
     "name": "stdout",
     "output_type": "stream",
     "text": [
      "oddnumbers: [1, 3, 5, 7, 9] , sum of these numbers:  25\n",
      "evennumbers: [2, 4, 6, 8, 10] , sum of these numbers:  30\n",
      "입력받은 숫자는 = 10, oddsum = 25, evensum = 30\n"
     ]
    }
   ],
   "source": [
    "x = int(input(\"숫자를 입력하세요: \"))\n",
    "\n",
    "evennums =[]\n",
    "oddnums = []\n",
    "evensum = 0\n",
    "oddsum = 0\n",
    "\n",
    "for i in range(1, x+1):\n",
    "    if i % 2 == 0 :\n",
    "        evensum += i\n",
    "        evennums.append(i)\n",
    "    else :\n",
    "        oddsum += i\n",
    "        oddnums.append(i)\n",
    "\n",
    "print (\"oddnumbers:\", oddnums,\",\", \"sum of these numbers: \", oddsum)\n",
    "print (\"evennumbers:\", evennums,\",\", \"sum of these numbers: \", evensum)\n",
    "\n",
    "print (\"입력받은 숫자는 = {}, oddsum = {}, evensum = {}\". format (x, oddsum, evensum))"
   ]
  },
  {
   "cell_type": "code",
   "execution_count": 17,
   "metadata": {},
   "outputs": [],
   "source": [
    "# 최대값, 최소값 구하기"
   ]
  },
  {
   "cell_type": "code",
   "execution_count": 18,
   "metadata": {},
   "outputs": [
    {
     "name": "stdout",
     "output_type": "stream",
     "text": [
      "nMin: 60 , nMax: 100\n"
     ]
    }
   ],
   "source": [
    "list = [70, 100, 80, 60, 90]\n",
    "nMin = list[0]     # list의 첫번째 값을 일단 Minimum, Maximum으로\n",
    "nMax = list[0]\n",
    "\n",
    "for i in list:\n",
    "    if nMin >= i :\n",
    "        nMin = i\n",
    "    elif nMax <= i :\n",
    "        nMax = i\n",
    "\n",
    "print (\"nMin:\",nMin, \",\", \"nMax:\",nMax)"
   ]
  },
  {
   "cell_type": "markdown",
   "metadata": {},
   "source": [
    "### 연습문제"
   ]
  },
  {
   "cell_type": "code",
   "execution_count": 19,
   "metadata": {},
   "outputs": [
    {
     "name": "stdout",
     "output_type": "stream",
     "text": [
      "*\n",
      "**\n",
      "***\n",
      "****\n",
      "*****\n",
      "******\n",
      "*******\n",
      "********\n",
      "*********\n"
     ]
    }
   ],
   "source": [
    "for i in range(9):\n",
    "    print (\"*\"*(i+1))"
   ]
  },
  {
   "cell_type": "code",
   "execution_count": 20,
   "metadata": {},
   "outputs": [
    {
     "name": "stdout",
     "output_type": "stream",
     "text": [
      "**********\n",
      "*********\n",
      "********\n",
      "*******\n",
      "******\n",
      "*****\n",
      "****\n",
      "***\n",
      "**\n"
     ]
    }
   ],
   "source": [
    "for i in range (9):\n",
    "    print (\"*\"*(10-i))"
   ]
  },
  {
   "cell_type": "code",
   "execution_count": 21,
   "metadata": {},
   "outputs": [
    {
     "name": "stdout",
     "output_type": "stream",
     "text": [
      "*\n",
      "**\n",
      "***\n",
      "****\n",
      "*****\n",
      "******\n",
      "*******\n",
      "********\n",
      "*********\n",
      "**********\n",
      "*********\n",
      "********\n",
      "*******\n",
      "******\n",
      "*****\n",
      "****\n",
      "***\n",
      "**\n",
      "*\n"
     ]
    }
   ],
   "source": [
    "for i in range (19):\n",
    "    if i < 10 :\n",
    "        print (\"*\" * (i+1))\n",
    "    else : \n",
    "        print (\"*\" * (19 - i))"
   ]
  },
  {
   "cell_type": "code",
   "execution_count": 22,
   "metadata": {},
   "outputs": [
    {
     "name": "stdout",
     "output_type": "stream",
     "text": [
      "      *\n",
      "     ***\n",
      "    *****\n",
      "   *******\n",
      "  *********\n",
      " ***********\n",
      "  *********\n",
      "   *******\n",
      "    *****\n",
      "     ***\n",
      "      *\n"
     ]
    }
   ],
   "source": [
    "for i in range (11):\n",
    "    \n",
    "    if i < 6 :\n",
    "        x = int(2*i+1)\n",
    "        y = int((11-x)/2)\n",
    "        print (\" \"*y,\"*\"*x)\n",
    "        \n",
    "    else :\n",
    "        x = int (11-2*(i-5))\n",
    "        y = int ((11-x)/2)\n",
    "        print (\" \"*y,\"*\"*x)"
   ]
  },
  {
   "cell_type": "code",
   "execution_count": 23,
   "metadata": {},
   "outputs": [
    {
     "name": "stdout",
     "output_type": "stream",
     "text": [
      "     *     \n",
      "    ***    \n",
      "   *****   \n",
      "  *******  \n",
      " ********* \n",
      "***********\n"
     ]
    }
   ],
   "source": [
    "### 참고\n",
    "for i in range (1, 12, 2):    # 1부터 10 까지 2의 간격으로 \n",
    "    print ( '{:^11}'.format ('*'*i))   # ^ 가운데정렬, > 오른쪽정렬, < 왼쪽정렬, 10칸잡아라!"
   ]
  },
  {
   "cell_type": "markdown",
   "metadata": {},
   "source": [
    "이것을 이용하면"
   ]
  },
  {
   "cell_type": "code",
   "execution_count": 24,
   "metadata": {},
   "outputs": [
    {
     "name": "stdout",
     "output_type": "stream",
     "text": [
      "     *     \n",
      "    ***    \n",
      "   *****   \n",
      "  *******  \n",
      " ********* \n",
      "***********\n",
      " ********* \n",
      "  *******  \n",
      "   *****   \n",
      "    ***    \n",
      "     *     \n",
      "           \n"
     ]
    }
   ],
   "source": [
    "for i in range (1, 24, 2):\n",
    "    if i < 12 :\n",
    "        print ( '{:^11}'.format ('*'*i))\n",
    "    else :\n",
    "        print ( '{:^11}'.format ('*'*(22-i)))"
   ]
  },
  {
   "cell_type": "markdown",
   "metadata": {},
   "source": [
    "## 중첩 for 반복문 (nested loop)"
   ]
  },
  {
   "cell_type": "markdown",
   "metadata": {},
   "source": [
    "반복문 안에서 다시 반복문을 실행해야 하는 경우, 중첩 반복문을 이용하여 for 반복문 안에 다시 for 반복문을 사용한다"
   ]
  },
  {
   "cell_type": "code",
   "execution_count": 33,
   "metadata": {},
   "outputs": [
    {
     "name": "stdout",
     "output_type": "stream",
     "text": [
      "(0, 0, 'i+j:', 0)   (0, 1, 'i+j:', 1)   (0, 2, 'i+j:', 2)   (0, 3, 'i+j:', 3)   (1, 0, 'i+j:', 1)   (1, 1, 'i+j:', 2)   (1, 2, 'i+j:', 3)   (1, 3, 'i+j:', 4)   (2, 0, 'i+j:', 2)   (2, 1, 'i+j:', 3)   (2, 2, 'i+j:', 4)   (2, 3, 'i+j:', 5)   (3, 0, 'i+j:', 3)   (3, 1, 'i+j:', 4)   (3, 2, 'i+j:', 5)   (3, 3, 'i+j:', 6)   "
     ]
    }
   ],
   "source": [
    "for i in range (4):\n",
    "    for j in range (4):\n",
    "        print ( (i,j,\"i+j:\",i+j), end =\"   \")"
   ]
  },
  {
   "cell_type": "markdown",
   "metadata": {},
   "source": [
    "중첩 반복문을 사용할 때는 각각의 반복문에서 쓰고 있는 카운터 변수의 이름이 겹치지 않도록 주의해야 한다. "
   ]
  },
  {
   "cell_type": "code",
   "execution_count": 26,
   "metadata": {},
   "outputs": [],
   "source": [
    "# 주사위를 두 번 던져서 나온 숫자들의 합이 4의 배수가 되는 경우를 구하기"
   ]
  },
  {
   "cell_type": "code",
   "execution_count": 27,
   "metadata": {},
   "outputs": [
    {
     "name": "stdout",
     "output_type": "stream",
     "text": [
      "합이 4의 배수가 되는 주사위 두 번에 나온 값은: 1 3\n",
      "합이 4의 배수가 되는 주사위 두 번에 나온 값은: 2 2\n",
      "합이 4의 배수가 되는 주사위 두 번에 나온 값은: 2 6\n",
      "합이 4의 배수가 되는 주사위 두 번에 나온 값은: 3 1\n",
      "합이 4의 배수가 되는 주사위 두 번에 나온 값은: 3 5\n",
      "합이 4의 배수가 되는 주사위 두 번에 나온 값은: 4 4\n",
      "합이 4의 배수가 되는 주사위 두 번에 나온 값은: 5 3\n",
      "합이 4의 배수가 되는 주사위 두 번에 나온 값은: 6 2\n",
      "합이 4의 배수가 되는 주사위 두 번에 나온 값은: 6 6\n"
     ]
    }
   ],
   "source": [
    "for i in range(1, 7):\n",
    "    for j in range (1, 7):\n",
    "        if (i+j)%4 == 0 :\n",
    "            print (\"합이 4의 배수가 되는 주사위 두 번에 나온 값은:\", i, j)"
   ]
  },
  {
   "cell_type": "markdown",
   "metadata": {},
   "source": [
    "### 연습문제"
   ]
  },
  {
   "cell_type": "markdown",
   "metadata": {},
   "source": [
    "어떤 주식의 가격은 매일 한 번 동전을 던져서 앞면이 나오면 전날 가격의 2배가 되고, 뒷면이 나오면 전날 가격의 절반이 된다. 1일에 주식의 가격이 1,024원이었을때, 4일 주식의 가격이 나올 수 있는 경우를 모두 구한다. (힌트: for 반복문이 3개 중첩)"
   ]
  },
  {
   "cell_type": "markdown",
   "metadata": {},
   "source": [
    "유니크 값만 뽑기 --> 경우의 수를 구하기 위해서"
   ]
  },
  {
   "cell_type": "code",
   "execution_count": 37,
   "metadata": {},
   "outputs": [
    {
     "name": "stdout",
     "output_type": "stream",
     "text": [
      "주식 가격은: [8192, 2048, 512, 128]\n",
      "가능한 경우의 수는: 4\n"
     ]
    }
   ],
   "source": [
    "x1 = 1024  # 주식의 시작가\n",
    "동전 = ['앞면','뒷면']  # 동전 던지기 가능한 경우의 수 나열\n",
    "b = []   #주식 가격의 경우의 수를 모두 담을 수 있도록 빈 리스트를 만든다\n",
    "\n",
    "\n",
    "for i in 동전:\n",
    "    if i == \"앞면\":\n",
    "        x2 = 2*x1\n",
    "    else :\n",
    "        x2 = x1/2\n",
    "\n",
    "    for i in 동전: \n",
    "        if i == \"앞면\":\n",
    "            x3 = 2*x2\n",
    "        else :\n",
    "            x3 = x2/2\n",
    "\n",
    "        for i in 동전:\n",
    "            if i == \"앞면\":\n",
    "                x4 = int(2*x3)\n",
    "                if x4 not in b:\n",
    "                    b.append(x4)\n",
    "                    \n",
    "            else :\n",
    "                x4 = int(x3/2)\n",
    "                if x4 not in b:\n",
    "                    b.append(x4)\n",
    "              \n",
    "                        \n",
    "print (\"주식 가격은:\",b)\n",
    "print (\"가능한 경우의 수는:\", len(b))"
   ]
  },
  {
   "cell_type": "code",
   "execution_count": 41,
   "metadata": {},
   "outputs": [
    {
     "name": "stdin",
     "output_type": "stream",
     "text": [
      "현재 주식값을 입력해주세요 : 1024\n",
      "며칠 후 주가의 경우의 수를 보시겠습니까? : 3\n"
     ]
    },
    {
     "name": "stdout",
     "output_type": "stream",
     "text": [
      "[128, 512, 2048, 8192]\n"
     ]
    }
   ],
   "source": [
    "a = int(input(\"현재 주식값을 입력해주세요 :\"))\n",
    "n = int(input(\"며칠 후 주가의 경우의 수를 보시겠습니까? :\"))\n",
    "y = []\n",
    "\n",
    "for i in range(-n, n+1, 2):   #3일 후 주가의 연산식의 경우의 수는 2**3, 2**1, 2**(-1), 2**(-3)으로 2 steps 간격으로 나타남\n",
    "    b = int(a*(2**(i)))\n",
    "    y.append(b)\n",
    "\n",
    "print(y)"
   ]
  },
  {
   "cell_type": "markdown",
   "metadata": {},
   "source": [
    "### 카운터 변수가 변하는 경우"
   ]
  },
  {
   "cell_type": "markdown",
   "metadata": {},
   "source": [
    "반복문에서 가장 복잡한 형태는 안쪽 반복문의 반복 횟수가 바깥쪽 반복문의 카운터 변수에 따라 변하는 상황. 예를 들어 1부터 5까지의 합은 다음과 같이 하나의 반복문으로 구할 수 있다"
   ]
  },
  {
   "cell_type": "code",
   "execution_count": 29,
   "metadata": {},
   "outputs": [
    {
     "name": "stdout",
     "output_type": "stream",
     "text": [
      "15\n"
     ]
    }
   ],
   "source": [
    "n = 5\n",
    "sum = 0\n",
    "\n",
    "for i in range(n+1):\n",
    "    sum += i\n",
    "    \n",
    "print (sum)"
   ]
  },
  {
   "cell_type": "markdown",
   "metadata": {},
   "source": [
    "1부터 1까지의 합, 1부터 2까지의 합, 1부터 3까지의 합, 이런식으로 1부터 10까지의 합을 모두 구해야한다면 반복문을 다음과 같이 중첩"
   ]
  },
  {
   "cell_type": "code",
   "execution_count": 30,
   "metadata": {},
   "outputs": [
    {
     "name": "stdout",
     "output_type": "stream",
     "text": [
      "1\n",
      "3\n",
      "6\n",
      "10\n",
      "15\n",
      "21\n",
      "28\n",
      "36\n",
      "45\n",
      "55\n"
     ]
    }
   ],
   "source": [
    "for j in range(1, 11):\n",
    "    sum = 0\n",
    "    \n",
    "    for i in range (j+1):\n",
    "        sum += i\n",
    "        \n",
    "    print (sum)"
   ]
  },
  {
   "cell_type": "code",
   "execution_count": 31,
   "metadata": {},
   "outputs": [
    {
     "data": {
      "image/png": "[encoded data removed]",
      "text/plain": [
       "<IPython.core.display.Image object>"
      ]
     },
     "execution_count": 31,
     "metadata": {},
     "output_type": "execute_result"
    }
   ],
   "source": [
    "from IPython.display import Image\n",
    "Image (\"수열.png\")"
   ]
  },
  {
   "cell_type": "code",
   "execution_count": 32,
   "metadata": {},
   "outputs": [
    {
     "name": "stdin",
     "output_type": "stream",
     "text": [
      "n번째 숫자를 입력하세요:  5\n"
     ]
    },
    {
     "name": "stdout",
     "output_type": "stream",
     "text": [
      "35\n"
     ]
    }
   ],
   "source": [
    "n = int(input(\"n번째 숫자를 입력하세요: \"))\n",
    "result = 0\n",
    "x= 0\n",
    "\n",
    "\n",
    "for i in range (1, n+1):\n",
    "    \n",
    "    x += i\n",
    "    result += x\n",
    "    \n",
    "\n",
    "print (result)"
   ]
  },
  {
   "cell_type": "code",
   "execution_count": null,
   "metadata": {},
   "outputs": [],
   "source": []
  }
 ],
 "metadata": {
  "kernelspec": {
   "display_name": "Python 3",
   "language": "python",
   "name": "python3"
  },
  "language_info": {
   "codemirror_mode": {
    "name": "ipython",
    "version": 3
   },
   "file_extension": ".py",
   "mimetype": "text/x-python",
   "name": "python",
   "nbconvert_exporter": "python",
   "pygments_lexer": "ipython3",
   "version": "3.7.3"
  }
 },
 "nbformat": 4,
 "nbformat_minor": 2
}
