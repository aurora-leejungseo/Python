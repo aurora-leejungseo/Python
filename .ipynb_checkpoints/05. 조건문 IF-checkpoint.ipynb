{
 "cells": [
  {
   "cell_type": "markdown",
   "metadata": {},
   "source": [
    "# 파이썬 조건문 기초"
   ]
  },
  {
   "cell_type": "markdown",
   "metadata": {},
   "source": [
    "## if ~ else 명령"
   ]
  },
  {
   "cell_type": "markdown",
   "metadata": {},
   "source": [
    "if 참 또는 거짓을 가지는 값: \n",
    "\n",
    "    조건이 참일 때 실행되는 명령들\n",
    "\n",
    "else:\n",
    "\n",
    "    조건이 거짓일 때 실행되는 명령"
   ]
  },
  {
   "cell_type": "code",
   "execution_count": 2,
   "metadata": {},
   "outputs": [
    {
     "name": "stdout",
     "output_type": "stream",
     "text": [
      "홀수\n"
     ]
    }
   ],
   "source": [
    "if a % 2 == 0 :\n",
    "    print ('짝수')\n",
    "else:\n",
    "    print ('홀수')\n",
    "    \n",
    "    \n",
    "a = 1\n",
    "\n"
   ]
  },
  {
   "cell_type": "markdown",
   "metadata": {},
   "source": [
    "어떤 수가 두자리 수의 짝수인지 알아보기"
   ]
  },
  {
   "cell_type": "code",
   "execution_count": 4,
   "metadata": {},
   "outputs": [
    {
     "name": "stdout",
     "output_type": "stream",
     "text": [
      "두자리 수의 짝수가 아니다\n"
     ]
    }
   ],
   "source": [
    "\n",
    "b = 55\n",
    "\n",
    "\n",
    "if (b >= 10) & (b < 100) & (b % 2 == 0) :\n",
    "    print (\"두자리 수의 짝수이다\")\n",
    "else:\n",
    "    print (\"두자리 수의 짝수가 아니다\")\n",
    "    \n",
    "\n"
   ]
  },
  {
   "cell_type": "markdown",
   "metadata": {},
   "source": [
    "### 연습문제\n",
    "\n",
    "변수 y의 값이 윤년이면 \"윤년입니다\"를 출력하고 아니라면 \"윤년이 아닙니다\"라고 출력하는 프로그램을 만든다.\n",
    "윤년은 2월 29일이 있는 해로 다음과 같이 정해진다.\n",
    "\n",
    "* 서력 기원 연수가 4로 나누어 떨어지는 해는 윤년으로 한다 (ex. 2004, 2008년..)\n",
    "* 이 중에서 100으로 나누어 떨어지는 해는 평년으로 한다 (ex. 1900년, 2100년, 2200년..)\n",
    "* 이 중에서 400으로 나누어 떨어지는 해는 윤년으로 둔다 (ex. 1600년, 2000년, 2400년...)"
   ]
  },
  {
   "cell_type": "code",
   "execution_count": 15,
   "metadata": {},
   "outputs": [
    {
     "name": "stdin",
     "output_type": "stream",
     "text": [
      "y값을 입력하세요:  2100\n"
     ]
    },
    {
     "name": "stdout",
     "output_type": "stream",
     "text": [
      "윤년이 아닙니다\n"
     ]
    }
   ],
   "source": [
    "y = int(input (\"y값을 입력하세요: \"))\n",
    "\n",
    "\n",
    "if ( y % 4 == 0 ) & ( y  % 100 != 0):\n",
    "    print (\"윤년입니다\")\n",
    "elif ( y % 4 == 0 ) & ( y % 400 == 0):\n",
    "    print (\"윤년입니다\")\n",
    "else:\n",
    "    print ('윤년이 아닙니다')\n"
   ]
  },
  {
   "cell_type": "markdown",
   "metadata": {},
   "source": [
    "## if ~ elif ~ else 명령"
   ]
  },
  {
   "cell_type": "markdown",
   "metadata": {},
   "source": [
    "조건으로 나누어야 할 경우의 수가 두 가지가 아니라 여러 가지일 때는 다음과 같이 if ~ elif ~ else 명령을 사용할 수 있다"
   ]
  },
  {
   "cell_type": "markdown",
   "metadata": {},
   "source": [
    "10문제를 보는 시험에서 8개 이상을 맞으면 성적이 \"A\", 8개 미만이고 5개 이상을 맞으면 \"B\", 5개 미만을 맞으면 \"C\""
   ]
  },
  {
   "cell_type": "code",
   "execution_count": 16,
   "metadata": {},
   "outputs": [
    {
     "name": "stdin",
     "output_type": "stream",
     "text": [
      "맞은 문제 갯수를 입력하세요 :  7\n"
     ]
    },
    {
     "name": "stdout",
     "output_type": "stream",
     "text": [
      "B\n"
     ]
    }
   ],
   "source": [
    "c = int (input (\"맞은 문제 갯수를 입력하세요 : \"))\n",
    "\n",
    "if c >= 8 :\n",
    "    print (\"A\")\n",
    "elif c >= 5 :\n",
    "    print (\"B\")\n",
    "else: \n",
    "    print (\"C\")"
   ]
  },
  {
   "cell_type": "markdown",
   "metadata": {},
   "source": [
    "### 연습문제\n",
    "어떤 농장에서는 수박이 10kg이 넘으면 1등급, 그렇지 않고 7kg이 넘으면 2등급, 그렇지 않고 4kg이 넘으면 3 등급, 나머지는 4등급을 준다고 한다. 이 수박의 등급을 정하는 파이썬 코드를 작성한다."
   ]
  },
  {
   "cell_type": "code",
   "execution_count": 18,
   "metadata": {},
   "outputs": [
    {
     "name": "stdin",
     "output_type": "stream",
     "text": [
      "수박의 무게를 입력하세요:  6\n"
     ]
    },
    {
     "name": "stdout",
     "output_type": "stream",
     "text": [
      "이 수박은 3등급입니다\n"
     ]
    }
   ],
   "source": [
    "a = int(input(\"수박의 무게를 입력하세요: \"))\n",
    "\n",
    "if a >= 10 :\n",
    "    print (\"이 수박은 1등급입니다\")\n",
    "elif a >= 7 :\n",
    "    print (\"이 수박은 2등급입니다\")\n",
    "elif a >= 4 :\n",
    "    print (\"이 수박은 3등급입니다\")\n",
    "else :\n",
    "    print (\"이 수박은 4등급입니다\")"
   ]
  },
  {
   "cell_type": "markdown",
   "metadata": {},
   "source": [
    "## 중첩 조건문"
   ]
  },
  {
   "cell_type": "markdown",
   "metadata": {},
   "source": [
    "조건문 안에 조건문이 포함된 형태"
   ]
  },
  {
   "cell_type": "markdown",
   "metadata": {},
   "source": [
    "중학교에서 팔굽혀펴기 시험을 보는데 남자는 10번 이상을 해야 합격이고 아니면 불합격. 여자는 5번 이상을 해야 합격이라면 다음과 같이 프로그램을 만들 수 있다"
   ]
  },
  {
   "cell_type": "code",
   "execution_count": 20,
   "metadata": {},
   "outputs": [
    {
     "name": "stdout",
     "output_type": "stream",
     "text": [
      "Fail\n"
     ]
    }
   ],
   "source": [
    "sex = 'boy'\n",
    "pushup = 8\n",
    "\n",
    "if sex == 'boy' :\n",
    "    if pushup >= 10 :\n",
    "        grade = \"PASS\"\n",
    "    else : \n",
    "        grade = \"Fail\"\n",
    "else :\n",
    "    if pushup >= 5 :\n",
    "        grade = \"PASS\"\n",
    "    else:\n",
    "        grade = \"Fail\"\n",
    "        \n",
    "print (grade)"
   ]
  },
  {
   "cell_type": "code",
   "execution_count": 21,
   "metadata": {},
   "outputs": [
    {
     "name": "stdin",
     "output_type": "stream",
     "text": [
      "성별을 입력하세요 (boy/girl):  girl\n",
      "팔굽혀펴기 횟수를 입력하세요:  4\n"
     ]
    },
    {
     "name": "stdout",
     "output_type": "stream",
     "text": [
      "Fail\n"
     ]
    }
   ],
   "source": [
    "sex = str(input (\"성별을 입력하세요 (boy/girl): \"))\n",
    "pushup = int(input (\"팔굽혀펴기 횟수를 입력하세요: \"))\n",
    "\n",
    "if sex == 'boy' :\n",
    "    if pushup >= 10 :\n",
    "        grade = \"PASS\"\n",
    "    else : \n",
    "        grade = \"Fail\"\n",
    "else :\n",
    "    if pushup >= 5 :\n",
    "        grade = \"PASS\"\n",
    "    else:\n",
    "        grade = \"Fail\"\n",
    "        \n",
    "print (grade)"
   ]
  },
  {
   "cell_type": "code",
   "execution_count": null,
   "metadata": {},
   "outputs": [],
   "source": []
  }
 ],
 "metadata": {
  "kernelspec": {
   "display_name": "Python 3",
   "language": "python",
   "name": "python3"
  },
  "language_info": {
   "codemirror_mode": {
    "name": "ipython",
    "version": 3
   },
   "file_extension": ".py",
   "mimetype": "text/x-python",
   "name": "python",
   "nbconvert_exporter": "python",
   "pygments_lexer": "ipython3",
   "version": "3.7.3"
  }
 },
 "nbformat": 4,
 "nbformat_minor": 2
}
