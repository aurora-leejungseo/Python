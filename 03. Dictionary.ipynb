{
 "cells": [
  {
   "cell_type": "markdown",
   "metadata": {},
   "source": [
    "# Dictionary"
   ]
  },
  {
   "cell_type": "markdown",
   "metadata": {},
   "source": [
    "* tuple은 불변한 순서가 있는 객체의 집합 --> 인덱스로 접근 가능\n",
    "* list와 비슷하지만 한 번 생성되면 값을 변경할 수 없음\n",
    "* list와 마찬가지로 타입이 함께 포함될 수 있음"
   ]
  },
  {
   "cell_type": "code",
   "execution_count": 1,
   "metadata": {},
   "outputs": [],
   "source": [
    "#1. mydict라는 빈 딕셔너리를 만드세요\n",
    "mydict = {}"
   ]
  },
  {
   "cell_type": "code",
   "execution_count": 2,
   "metadata": {},
   "outputs": [
    {
     "name": "stdout",
     "output_type": "stream",
     "text": [
      "{'red': 1, 'blue': 3, 'green': 4}\n"
     ]
    }
   ],
   "source": [
    "#2. 'red':1, 'blue':3, 'green':4 세 요소를 추가하세요\n",
    "mydict['red'] = 1\n",
    "mydict['blue'] = 3\n",
    "mydict['green'] = 4\n",
    "print (mydict)"
   ]
  },
  {
   "cell_type": "code",
   "execution_count": 3,
   "metadata": {},
   "outputs": [
    {
     "name": "stdout",
     "output_type": "stream",
     "text": [
      "{'red': 1, 'blue': 3, 'green': 7}\n"
     ]
    }
   ],
   "source": [
    "#3. green의  value를 7로 수정하세요\n",
    "mydict['green'] = 7\n",
    "print(mydict)"
   ]
  },
  {
   "cell_type": "code",
   "execution_count": 4,
   "metadata": {},
   "outputs": [
    {
     "name": "stdout",
     "output_type": "stream",
     "text": [
      "{'red': 1, 'blue': 3, 'green': 7}\n"
     ]
    }
   ],
   "source": [
    "#4. mydict dictionary를 출력하세요\n",
    "print (mydict)"
   ]
  },
  {
   "cell_type": "code",
   "execution_count": 5,
   "metadata": {},
   "outputs": [
    {
     "data": {
      "text/plain": [
       "True"
      ]
     },
     "execution_count": 5,
     "metadata": {},
     "output_type": "execute_result"
    }
   ],
   "source": [
    "#5.key값에 blue가 있는지 확인하세요\n",
    "'blue' in mydict"
   ]
  },
  {
   "cell_type": "code",
   "execution_count": 6,
   "metadata": {},
   "outputs": [
    {
     "data": {
      "text/plain": [
       "3"
      ]
     },
     "execution_count": 6,
     "metadata": {},
     "output_type": "execute_result"
    }
   ],
   "source": [
    "#8. mydict의 길이를 출력하세요\n",
    "len(mydict)"
   ]
  },
  {
   "cell_type": "code",
   "execution_count": 7,
   "metadata": {},
   "outputs": [
    {
     "name": "stdout",
     "output_type": "stream",
     "text": [
      "{'red': 1, 'blue': 3, 'green': 7}\n"
     ]
    }
   ],
   "source": [
    "#7. 복사해서 mydict2를 만드세요\n",
    "mydict2 = mydict.copy()\n",
    "print(mydict2)"
   ]
  },
  {
   "cell_type": "code",
   "execution_count": 8,
   "metadata": {},
   "outputs": [
    {
     "data": {
      "text/plain": [
       "1"
      ]
     },
     "execution_count": 8,
     "metadata": {},
     "output_type": "execute_result"
    }
   ],
   "source": [
    "#8. get을 이용해서 red의 value값을 출력하세요\n",
    "mydict.get('red')"
   ]
  },
  {
   "cell_type": "code",
   "execution_count": 9,
   "metadata": {},
   "outputs": [
    {
     "data": {
      "text/plain": [
       "dict_keys(['red', 'blue', 'green'])"
      ]
     },
     "execution_count": 9,
     "metadata": {},
     "output_type": "execute_result"
    }
   ],
   "source": [
    "#9.key값만 리스트로 출력하세요\n",
    "mydict.keys()"
   ]
  },
  {
   "cell_type": "code",
   "execution_count": 10,
   "metadata": {},
   "outputs": [
    {
     "data": {
      "text/plain": [
       "dict_values([1, 3, 7])"
      ]
     },
     "execution_count": 10,
     "metadata": {},
     "output_type": "execute_result"
    }
   ],
   "source": [
    "#10. value값들만 리스트로 출력하세요\n",
    "mydict.values()"
   ]
  },
  {
   "cell_type": "code",
   "execution_count": 11,
   "metadata": {},
   "outputs": [
    {
     "data": {
      "text/plain": [
       "dict_items([('red', 1), ('blue', 3), ('green', 7)])"
      ]
     },
     "execution_count": 11,
     "metadata": {},
     "output_type": "execute_result"
    }
   ],
   "source": [
    "#11. key, value의 튜플 쌍으로 각 요소를 출력하세요\n",
    "mydict.items()"
   ]
  },
  {
   "cell_type": "code",
   "execution_count": 12,
   "metadata": {},
   "outputs": [
    {
     "name": "stdout",
     "output_type": "stream",
     "text": [
      "None\n",
      "{'red': 1, 'blue': 3, 'green': 7, 'black': 5}\n"
     ]
    }
   ],
   "source": [
    "#12. key 'black'의 value를 출력하고 \n",
    "# 없으면 key는 black, value는 5로 삽입하세요\n",
    "print(mydict.get('black'))\n",
    "mydict['black'] = 5\n",
    "print(mydict)"
   ]
  },
  {
   "cell_type": "code",
   "execution_count": 13,
   "metadata": {},
   "outputs": [
    {
     "data": {
      "text/plain": [
       "['black', 'blue', 'green', 'red']"
      ]
     },
     "execution_count": 13,
     "metadata": {},
     "output_type": "execute_result"
    }
   ],
   "source": [
    "#13. key를 기준으로 정렬하세요\n",
    "sorted(mydict.keys())"
   ]
  },
  {
   "cell_type": "code",
   "execution_count": 14,
   "metadata": {},
   "outputs": [
    {
     "data": {
      "text/plain": [
       "[1, 3, 5, 7]"
      ]
     },
     "execution_count": 14,
     "metadata": {},
     "output_type": "execute_result"
    }
   ],
   "source": [
    "#14.value를 기준으로 정렬하세요\n",
    "sorted(mydict.values())"
   ]
  },
  {
   "cell_type": "code",
   "execution_count": 15,
   "metadata": {},
   "outputs": [
    {
     "name": "stdout",
     "output_type": "stream",
     "text": [
      "{'red': 1, 'green': 7, 'black': 5}\n"
     ]
    }
   ],
   "source": [
    "#15. key blue와 value를 삭제하세요\n",
    "del mydict ['blue']\n",
    "print (mydict)"
   ]
  },
  {
   "cell_type": "code",
   "execution_count": 16,
   "metadata": {},
   "outputs": [
    {
     "data": {
      "text/plain": [
       "5"
      ]
     },
     "execution_count": 16,
     "metadata": {},
     "output_type": "execute_result"
    }
   ],
   "source": [
    "# 16.black를 삭제하면서 value값을 동시에 리턴하세요\n",
    "mydict.pop('black')"
   ]
  },
  {
   "cell_type": "code",
   "execution_count": 17,
   "metadata": {},
   "outputs": [
    {
     "name": "stdout",
     "output_type": "stream",
     "text": [
      "{}\n"
     ]
    }
   ],
   "source": [
    "#17. 모든 요소를 삭제하세요\n",
    "mydict.clear()\n",
    "print(mydict)"
   ]
  },
  {
   "cell_type": "code",
   "execution_count": 18,
   "metadata": {},
   "outputs": [],
   "source": [
    "#18. 딕셔너리를 삭제하세요\n",
    "del mydict"
   ]
  },
  {
   "cell_type": "markdown",
   "metadata": {},
   "source": [
    "태양계 planet 한글이름과 영어 이름 활용하여 Dictionary 사용하기"
   ]
  },
  {
   "cell_type": "code",
   "execution_count": 19,
   "metadata": {},
   "outputs": [],
   "source": [
    "solar1 = ['태양', '수성', '금성', '지구', '화성', '목성', '토성', '천왕성', '해왕성']\n",
    "solar2 = ['Sun', 'Mercury', 'Venus', 'Earth', 'Mars', 'Jupiter', 'Saturn', 'Uranus', 'Neptune']"
   ]
  },
  {
   "cell_type": "code",
   "execution_count": 20,
   "metadata": {},
   "outputs": [],
   "source": [
    "#19. 아래와 같이 출력되도록 코딩하세요.\n",
    "# for문을 사용하세요.\n",
    "\n",
    "# {'태양': 'Sun', '수성': 'Mercury', '금성': 'Venus', '지구': 'Earth', \n",
    "#  '화성': 'Mars', '목성': 'Jupiter', '토성': 'Saturn', '천왕성': 'Uranus', '해왕성': 'Neptune'}"
   ]
  },
  {
   "cell_type": "code",
   "execution_count": 21,
   "metadata": {},
   "outputs": [],
   "source": [
    "solardict = {}"
   ]
  },
  {
   "cell_type": "code",
   "execution_count": 22,
   "metadata": {},
   "outputs": [
    {
     "name": "stdout",
     "output_type": "stream",
     "text": [
      "{'태양': 'Sun', '수성': 'Mercury', '금성': 'Venus', '지구': 'Earth', '화성': 'Mars', '목성': 'Jupiter', '토성': 'Saturn', '천왕성': 'Uranus', '해왕성': 'Neptune'}\n"
     ]
    }
   ],
   "source": [
    "# for with \"range\"\n",
    "for i in range (len(solar1)):\n",
    "    solardict[ solar1[i]] = solar2[i]\n",
    "print (solardict)"
   ]
  },
  {
   "cell_type": "code",
   "execution_count": 23,
   "metadata": {},
   "outputs": [
    {
     "name": "stdout",
     "output_type": "stream",
     "text": [
      "0 태양\n",
      "1 수성\n",
      "2 금성\n",
      "3 지구\n",
      "4 화성\n",
      "5 목성\n",
      "6 토성\n",
      "7 천왕성\n",
      "8 해왕성\n",
      "{'태양': 'Sun', '수성': 'Mercury', '금성': 'Venus', '지구': 'Earth', '화성': 'Mars', '목성': 'Jupiter', '토성': 'Saturn', '천왕성': 'Uranus', '해왕성': 'Neptune'}\n"
     ]
    }
   ],
   "source": [
    "# for with \"enumerate\"\n",
    "for k, v in enumerate (solar1):\n",
    "    print (k, v)\n",
    "    solardict [v] = solar2 [k]\n",
    "print (solardict)"
   ]
  },
  {
   "cell_type": "markdown",
   "metadata": {},
   "source": [
    "* 반복문 사용 시 몇 번째 반복문인지 확인이 필요할 수 있음. 이 때 사용하는 것이 enumerate\n",
    "* 인덱스 번호와 컬렉션의 원소를 tuple 형태로 반환"
   ]
  },
  {
   "cell_type": "code",
   "execution_count": 24,
   "metadata": {},
   "outputs": [
    {
     "name": "stdout",
     "output_type": "stream",
     "text": [
      "(0, '삼다수')\n",
      "(1, '백산수')\n",
      "(2, '아이시스')\n",
      "(3, '에비앙')\n"
     ]
    }
   ],
   "source": [
    "# enumerate 활용방법\n",
    "t = ['삼다수', '백산수', '아이시스','에비앙']\n",
    "for a in enumerate(t):\n",
    "    print (a)"
   ]
  },
  {
   "cell_type": "markdown",
   "metadata": {},
   "source": [
    "* tuple 형태 반환을 이용하여 활용하기"
   ]
  },
  {
   "cell_type": "code",
   "execution_count": 25,
   "metadata": {},
   "outputs": [
    {
     "name": "stdout",
     "output_type": "stream",
     "text": [
      "0 삼다수\n",
      "1 백산수\n",
      "2 아이시스\n",
      "3 에비앙\n"
     ]
    }
   ],
   "source": [
    "for x, y in enumerate(t):\n",
    "    print (x, y)"
   ]
  },
  {
   "cell_type": "code",
   "execution_count": 26,
   "metadata": {},
   "outputs": [],
   "source": [
    "#20-1. Aimy의 value를 10000으로 수정하세요 \n",
    "names = {'Mary':10999, 'Sams':2111, 'Aimy':9778, 'Tom':20245, \n",
    "'Michale':27115, 'Bob':5887, 'Kelly':7855}"
   ]
  },
  {
   "cell_type": "code",
   "execution_count": 27,
   "metadata": {},
   "outputs": [
    {
     "name": "stdout",
     "output_type": "stream",
     "text": [
      "{'Mary': 10999, 'Sams': 2111, 'Aimy': 10000, 'Tom': 20245, 'Michale': 27115, 'Bob': 5887, 'Kelly': 7855}\n"
     ]
    }
   ],
   "source": [
    "names ['Aimy'] = 10000\n",
    "print(names)"
   ]
  },
  {
   "cell_type": "code",
   "execution_count": 28,
   "metadata": {},
   "outputs": [
    {
     "name": "stdout",
     "output_type": "stream",
     "text": [
      "{'Mary': 10999, 'Aimy': 10000, 'Tom': 20245, 'Michale': 27115, 'Bob': 5887, 'Kelly': 7855}\n"
     ]
    }
   ],
   "source": [
    "#20-2. Sams 삭제\n",
    "del names['Sams']\n",
    "print(names)"
   ]
  },
  {
   "cell_type": "code",
   "execution_count": 29,
   "metadata": {},
   "outputs": [
    {
     "data": {
      "text/plain": [
       "82101"
      ]
     },
     "execution_count": 29,
     "metadata": {},
     "output_type": "execute_result"
    }
   ],
   "source": [
    "#20-3. value 값들의 합 구하기\n",
    "sum(names.values())"
   ]
  },
  {
   "cell_type": "code",
   "execution_count": 30,
   "metadata": {},
   "outputs": [
    {
     "data": {
      "text/plain": [
       "27115"
      ]
     },
     "execution_count": 30,
     "metadata": {},
     "output_type": "execute_result"
    }
   ],
   "source": [
    "#20-4. value값의 최댓값 구하기\n",
    "max(names.values())"
   ]
  },
  {
   "cell_type": "code",
   "execution_count": 31,
   "metadata": {},
   "outputs": [
    {
     "name": "stdout",
     "output_type": "stream",
     "text": [
      "dict_keys(['Mary', 'Aimy', 'Tom', 'Michale', 'Bob', 'Kelly'])\n"
     ]
    }
   ],
   "source": [
    "#20-5. key값들 출력하기\n",
    "print(names.keys())"
   ]
  },
  {
   "cell_type": "code",
   "execution_count": 32,
   "metadata": {},
   "outputs": [
    {
     "name": "stdout",
     "output_type": "stream",
     "text": [
      "dict_values([10999, 10000, 20245, 27115, 5887, 7855])\n"
     ]
    }
   ],
   "source": [
    "#20-6.value 값들 출력하기\n",
    "print(names.values())"
   ]
  },
  {
   "cell_type": "code",
   "execution_count": 33,
   "metadata": {},
   "outputs": [],
   "source": [
    "#20-7. 모든 요소 삭제하기\n",
    "names.clear()"
   ]
  },
  {
   "cell_type": "code",
   "execution_count": 34,
   "metadata": {},
   "outputs": [
    {
     "name": "stdout",
     "output_type": "stream",
     "text": [
      "{}\n"
     ]
    }
   ],
   "source": [
    "print(names)"
   ]
  },
  {
   "cell_type": "code",
   "execution_count": 35,
   "metadata": {},
   "outputs": [],
   "source": [
    "del names"
   ]
  },
  {
   "cell_type": "code",
   "execution_count": 36,
   "metadata": {},
   "outputs": [],
   "source": [
    "#21. 이름을 입력받고 이름의 value값이 출력되도록 코딩\n",
    "\n",
    "names = {'Mary':10999, 'Sams':2111, 'Aimy':9778, 'Tom':20245, \n",
    "'Michale':27115, 'Bob':5887, 'Kelly':7855}"
   ]
  },
  {
   "cell_type": "code",
   "execution_count": 37,
   "metadata": {},
   "outputs": [
    {
     "name": "stdout",
     "output_type": "stream",
     "text": [
      "이름을 입력하세요: Michale\n",
      "27115\n"
     ]
    }
   ],
   "source": [
    "name = input( \"이름을 입력하세요: \")\n",
    "\n",
    "if name in names:\n",
    "    print (names[name])\n",
    "else:\n",
    "    print (\"죄송합니다. 해당 이름에 대한 정보가 없습니다\")"
   ]
  },
  {
   "cell_type": "code",
   "execution_count": 38,
   "metadata": {},
   "outputs": [
    {
     "data": {
      "text/plain": [
       "[('Sams', 2111),\n",
       " ('Bob', 5887),\n",
       " ('Kelly', 7855),\n",
       " ('Aimy', 9778),\n",
       " ('Mary', 10999),\n",
       " ('Tom', 20245),\n",
       " ('Michale', 27115)]"
      ]
     },
     "execution_count": 38,
     "metadata": {},
     "output_type": "execute_result"
    }
   ],
   "source": [
    "#22-1. dictionary를 value 중심으로 정렬하고 key와 value를 출력하기\n",
    "sorted (names.items(), key = lambda x: x[1]) #딕셔너리의 키와 벨류를 출력하는데, 1번째 컬럼(value)을 중심으로 sort\n",
    "\n",
    "# sorted (names.values())로 진행하면 정렬된 value값만 출력됨"
   ]
  },
  {
   "cell_type": "code",
   "execution_count": 39,
   "metadata": {},
   "outputs": [
    {
     "data": {
      "text/plain": [
       "[('Aimy', 9778),\n",
       " ('Bob', 5887),\n",
       " ('Kelly', 7855),\n",
       " ('Mary', 10999),\n",
       " ('Michale', 27115),\n",
       " ('Sams', 2111),\n",
       " ('Tom', 20245)]"
      ]
     },
     "execution_count": 39,
     "metadata": {},
     "output_type": "execute_result"
    }
   ],
   "source": [
    "#22-2. key를 기준으로 오름차순 정렬\n",
    "sorted(names.items(), key = lambda x: x[0], reverse = False)"
   ]
  },
  {
   "cell_type": "code",
   "execution_count": 40,
   "metadata": {},
   "outputs": [
    {
     "name": "stdout",
     "output_type": "stream",
     "text": [
      "18\n"
     ]
    }
   ],
   "source": [
    "my_idol = {\"name\": \"쯔위\", \"age\": 18, \"job\": \"singer\"}\n",
    "#23-1. age값 출력\n",
    "print(my_idol['age'])"
   ]
  },
  {
   "cell_type": "code",
   "execution_count": 41,
   "metadata": {},
   "outputs": [
    {
     "name": "stdout",
     "output_type": "stream",
     "text": [
      "singer\n"
     ]
    }
   ],
   "source": [
    "#23-2. job의 값을 출력\n",
    "print(my_idol['job'])"
   ]
  },
  {
   "cell_type": "code",
   "execution_count": 42,
   "metadata": {},
   "outputs": [
    {
     "name": "stdout",
     "output_type": "stream",
     "text": [
      "{'name': '수지', 'age': 18, 'job': 'singer'}\n"
     ]
    }
   ],
   "source": [
    "#23-3. name 값을 '수지'로 수정\n",
    "my_idol['name'] = '수지'\n",
    "print(my_idol)"
   ]
  },
  {
   "cell_type": "code",
   "execution_count": 43,
   "metadata": {},
   "outputs": [
    {
     "name": "stdout",
     "output_type": "stream",
     "text": [
      "{'name': '수지', 'age': 18, 'job': 'singer', 'birth': '1994-07-07'}\n"
     ]
    }
   ],
   "source": [
    "#23-4. 'birth'값을 '1994-07-07'로 추가하시오\n",
    "my_idol['birth'] = '1994-07-07'\n",
    "print(my_idol)"
   ]
  },
  {
   "cell_type": "code",
   "execution_count": 44,
   "metadata": {},
   "outputs": [
    {
     "data": {
      "text/plain": [
       "('birth', '1994-07-07')"
      ]
     },
     "execution_count": 44,
     "metadata": {},
     "output_type": "execute_result"
    }
   ],
   "source": [
    "#23-5. 마지막 index 항목 가져오면서 삭제하기\n",
    "my_idol.popitem()"
   ]
  },
  {
   "cell_type": "code",
   "execution_count": 46,
   "metadata": {},
   "outputs": [
    {
     "data": {
      "text/plain": [
       "'수지'"
      ]
     },
     "execution_count": 46,
     "metadata": {},
     "output_type": "execute_result"
    }
   ],
   "source": [
    "#23-6. 임의의 값 가져오면서 삭제하기\n",
    "import random\n",
    "my_idol.pop(random.choice(list(my_idol.keys())))"
   ]
  },
  {
   "cell_type": "code",
   "execution_count": 47,
   "metadata": {},
   "outputs": [
    {
     "name": "stdout",
     "output_type": "stream",
     "text": [
      "{}\n"
     ]
    }
   ],
   "source": [
    "# #23-6 사전비우기\n",
    "my_idol.clear()\n",
    "print(my_idol)"
   ]
  },
  {
   "cell_type": "code",
   "execution_count": 48,
   "metadata": {},
   "outputs": [],
   "source": [
    "# #23-7 my_idol 사전 삭제하기\n",
    "del my_idol"
   ]
  },
  {
   "cell_type": "code",
   "execution_count": 49,
   "metadata": {},
   "outputs": [
    {
     "ename": "NameError",
     "evalue": "name 'my_idol' is not defined",
     "output_type": "error",
     "traceback": [
      "\u001b[1;31m---------------------------------------------------------------------------\u001b[0m",
      "\u001b[1;31mNameError\u001b[0m                                 Traceback (most recent call last)",
      "\u001b[1;32m<ipython-input-49-87de099b39df>\u001b[0m in \u001b[0;36m<module>\u001b[1;34m\u001b[0m\n\u001b[1;32m----> 1\u001b[1;33m \u001b[0mprint\u001b[0m\u001b[1;33m(\u001b[0m\u001b[0mmy_idol\u001b[0m\u001b[1;33m)\u001b[0m\u001b[1;33m\u001b[0m\u001b[1;33m\u001b[0m\u001b[0m\n\u001b[0m",
      "\u001b[1;31mNameError\u001b[0m: name 'my_idol' is not defined"
     ]
    }
   ],
   "source": [
    "print(my_idol)"
   ]
  },
  {
   "cell_type": "code",
   "execution_count": null,
   "metadata": {},
   "outputs": [],
   "source": []
  }
 ],
 "metadata": {
  "kernelspec": {
   "display_name": "Python 3",
   "language": "python",
   "name": "python3"
  },
  "language_info": {
   "codemirror_mode": {
    "name": "ipython",
    "version": 3
   },
   "file_extension": ".py",
   "mimetype": "text/x-python",
   "name": "python",
   "nbconvert_exporter": "python",
   "pygments_lexer": "ipython3",
   "version": "3.7.3"
  }
 },
 "nbformat": 4,
 "nbformat_minor": 2
}
