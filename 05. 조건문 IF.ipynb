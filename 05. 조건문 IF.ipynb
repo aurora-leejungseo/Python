{
 "cells": [
  {
   "cell_type": "markdown",
   "metadata": {},
   "source": [
    "# 파이썬 조건문 기초"
   ]
  },
  {
   "cell_type": "markdown",
   "metadata": {},
   "source": [
    "## if ~ else 명령"
   ]
  },
  {
   "cell_type": "markdown",
   "metadata": {},
   "source": [
    "if 참 또는 거짓을 가지는 값: \n",
    "\n",
    "    조건이 참일 때 실행되는 명령들\n",
    "\n",
    "else:\n",
    "\n",
    "    조건이 거짓일 때 실행되는 명령"
   ]
  },
  {
   "cell_type": "code",
   "execution_count": 1,
   "metadata": {},
   "outputs": [
    {
     "name": "stdin",
     "output_type": "stream",
     "text": [
      "a의 값을 입력하세요: 3\n"
     ]
    },
    {
     "name": "stdout",
     "output_type": "stream",
     "text": [
      "홀수\n"
     ]
    }
   ],
   "source": [
    "a = int(input (\"a의 값을 입력하세요:\"))\n",
    "\n",
    "if a % 2 == 0 :\n",
    "    print ('짝수')\n",
    "else:\n",
    "    print ('홀수')\n",
    "\n"
   ]
  },
  {
   "cell_type": "markdown",
   "metadata": {},
   "source": [
    "어떤 수가 두자리 수의 짝수인지 알아보기"
   ]
  },
  {
   "cell_type": "code",
   "execution_count": 2,
   "metadata": {},
   "outputs": [
    {
     "name": "stdout",
     "output_type": "stream",
     "text": [
      "두자리 수의 짝수가 아니다\n"
     ]
    }
   ],
   "source": [
    "\n",
    "b = 55\n",
    "\n",
    "\n",
    "if (b >= 10) & (b < 100) & (b % 2 == 0) :\n",
    "    print (\"두자리 수의 짝수이다\")\n",
    "else:\n",
    "    print (\"두자리 수의 짝수가 아니다\")\n",
    "    \n",
    "\n"
   ]
  },
  {
   "cell_type": "markdown",
   "metadata": {},
   "source": [
    "### 연습문제\n",
    "\n",
    "변수 y의 값이 윤년이면 \"윤년입니다\"를 출력하고 아니라면 \"윤년이 아닙니다\"라고 출력하는 프로그램을 만든다.\n",
    "윤년은 2월 29일이 있는 해로 다음과 같이 정해진다.\n",
    "\n",
    "* 서력 기원 연수가 4로 나누어 떨어지는 해는 윤년으로 한다 (ex. 2004, 2008년..)\n",
    "* 이 중에서 100으로 나누어 떨어지는 해는 평년으로 한다 (ex. 1900년, 2100년, 2200년..)\n",
    "* 이 중에서 400으로 나누어 떨어지는 해는 윤년으로 둔다 (ex. 1600년, 2000년, 2400년...)"
   ]
  },
  {
   "cell_type": "code",
   "execution_count": 3,
   "metadata": {},
   "outputs": [
    {
     "name": "stdin",
     "output_type": "stream",
     "text": [
      "y값을 입력하세요:  5\n"
     ]
    },
    {
     "name": "stdout",
     "output_type": "stream",
     "text": [
      "윤년이 아닙니다\n"
     ]
    }
   ],
   "source": [
    "y = int(input (\"y값을 입력하세요: \"))\n",
    "\n",
    "\n",
    "if ( y % 4 == 0 ) & ( y  % 100 != 0):\n",
    "    print (\"윤년입니다\")\n",
    "elif ( y % 4 == 0 ) & ( y % 400 == 0):\n",
    "    print (\"윤년입니다\")\n",
    "else:\n",
    "    print ('윤년이 아닙니다')\n"
   ]
  },
  {
   "cell_type": "markdown",
   "metadata": {},
   "source": [
    "## if ~ elif ~ else 명령"
   ]
  },
  {
   "cell_type": "markdown",
   "metadata": {},
   "source": [
    "조건으로 나누어야 할 경우의 수가 두 가지가 아니라 여러 가지일 때는 다음과 같이 if ~ elif ~ else 명령을 사용할 수 있다"
   ]
  },
  {
   "cell_type": "markdown",
   "metadata": {},
   "source": [
    "10문제를 보는 시험에서 8개 이상을 맞으면 성적이 \"A\", 8개 미만이고 5개 이상을 맞으면 \"B\", 5개 미만을 맞으면 \"C\""
   ]
  },
  {
   "cell_type": "code",
   "execution_count": 4,
   "metadata": {},
   "outputs": [
    {
     "name": "stdin",
     "output_type": "stream",
     "text": [
      "맞은 문제 갯수를 입력하세요 :  4\n"
     ]
    },
    {
     "name": "stdout",
     "output_type": "stream",
     "text": [
      "C\n"
     ]
    }
   ],
   "source": [
    "c = int (input (\"맞은 문제 갯수를 입력하세요 : \"))\n",
    "\n",
    "if c >= 8 :\n",
    "    print (\"A\")\n",
    "elif c >= 5 :\n",
    "    print (\"B\")\n",
    "else: \n",
    "    print (\"C\")"
   ]
  },
  {
   "cell_type": "markdown",
   "metadata": {},
   "source": [
    "### 연습문제\n",
    "어떤 농장에서는 수박이 10kg이 넘으면 1등급, 그렇지 않고 7kg이 넘으면 2등급, 그렇지 않고 4kg이 넘으면 3 등급, 나머지는 4등급을 준다고 한다. 이 수박의 등급을 정하는 파이썬 코드를 작성한다."
   ]
  },
  {
   "cell_type": "code",
   "execution_count": 5,
   "metadata": {},
   "outputs": [
    {
     "name": "stdin",
     "output_type": "stream",
     "text": [
      "수박의 무게를 입력하세요:  5\n"
     ]
    },
    {
     "name": "stdout",
     "output_type": "stream",
     "text": [
      "이 수박은 3등급입니다\n"
     ]
    }
   ],
   "source": [
    "a = int(input(\"수박의 무게를 입력하세요: \"))\n",
    "\n",
    "if a >= 10 :\n",
    "    print (\"이 수박은 1등급입니다\")\n",
    "elif a >= 7 :\n",
    "    print (\"이 수박은 2등급입니다\")\n",
    "elif a >= 4 :\n",
    "    print (\"이 수박은 3등급입니다\")\n",
    "else :\n",
    "    print (\"이 수박은 4등급입니다\")"
   ]
  },
  {
   "cell_type": "markdown",
   "metadata": {},
   "source": [
    "## 중첩 조건문"
   ]
  },
  {
   "cell_type": "markdown",
   "metadata": {},
   "source": [
    "조건문 안에 조건문이 포함된 형태"
   ]
  },
  {
   "cell_type": "markdown",
   "metadata": {},
   "source": [
    "중학교에서 팔굽혀펴기 시험을 보는데 남자는 10번 이상을 해야 합격이고 아니면 불합격. 여자는 5번 이상을 해야 합격이라면 다음과 같이 프로그램을 만들 수 있다"
   ]
  },
  {
   "cell_type": "code",
   "execution_count": 6,
   "metadata": {},
   "outputs": [
    {
     "name": "stdout",
     "output_type": "stream",
     "text": [
      "Fail\n"
     ]
    }
   ],
   "source": [
    "sex = 'boy'\n",
    "pushup = 8\n",
    "\n",
    "if sex == 'boy' :\n",
    "    if pushup >= 10 :\n",
    "        grade = \"PASS\"\n",
    "    else : \n",
    "        grade = \"Fail\"\n",
    "else :\n",
    "    if pushup >= 5 :\n",
    "        grade = \"PASS\"\n",
    "    else:\n",
    "        grade = \"Fail\"\n",
    "        \n",
    "print (grade)"
   ]
  },
  {
   "cell_type": "code",
   "execution_count": 7,
   "metadata": {},
   "outputs": [
    {
     "name": "stdin",
     "output_type": "stream",
     "text": [
      "성별을 입력하세요 (boy/girl):  girl\n",
      "팔굽혀펴기 횟수를 입력하세요:  3\n"
     ]
    },
    {
     "name": "stdout",
     "output_type": "stream",
     "text": [
      "Fail\n"
     ]
    }
   ],
   "source": [
    "sex = str(input (\"성별을 입력하세요 (boy/girl): \"))\n",
    "pushup = int(input (\"팔굽혀펴기 횟수를 입력하세요: \"))\n",
    "\n",
    "if sex == 'boy' :\n",
    "    if pushup >= 10 :\n",
    "        grade = \"PASS\"\n",
    "    else : \n",
    "        grade = \"Fail\"\n",
    "else :\n",
    "    if pushup >= 5 :\n",
    "        grade = \"PASS\"\n",
    "    else:\n",
    "        grade = \"Fail\"\n",
    "        \n",
    "print (grade)"
   ]
  },
  {
   "cell_type": "markdown",
   "metadata": {},
   "source": [
    "### 연습문제 \n",
    "'죄수의 딜레마'는 게임 이론의 유명한 사례이다. 두 명의 범죄자 A, B가 체포되어 서로 다른 취조실에서 격리되어 심문을 받고 있다. 이들에게 자백 여부에 따라 다음의 선택이 가능하다. \n",
    "* 둘 중하나가 배신하여 죄를 자백하면 자백한 사람은 즉시 풀어주고 나머지 한 명이 10년을 복역해야 한다\n",
    "* 둘 모두 서로를 배신하여 죄를 자백하면 둘 다 5년을 복역한다\n",
    "* 둘 모두 죄를 자백하지 않으면 둘 다 1년을 복역한다\n",
    "\n",
    "죄수를 나타내는 변수 XA, XB는 자백하면 True, 그렇지않으면 False를 가지는 값이다\n",
    "이때 변수 XA,XB 값에 따라 각각이 복역해야하는 연 수를 변수 YA,YB라고 할 때, YA, YB를 계산하는 프로그램을 만든다."
   ]
  },
  {
   "cell_type": "code",
   "execution_count": 8,
   "metadata": {},
   "outputs": [
    {
     "name": "stdin",
     "output_type": "stream",
     "text": [
      "죄수 XA의 자백여부를 입력하세요 (True/False):  True\n",
      "죄수 XB의 자백여부를 입력하세요 (True/False):  False\n"
     ]
    },
    {
     "name": "stdout",
     "output_type": "stream",
     "text": [
      "XA가 복역해야 할 연 수는: 0\n",
      "XB가 복역해야 할 연 수는: 10\n"
     ]
    }
   ],
   "source": [
    "XA = input(\"죄수 XA의 자백여부를 입력하세요 (True/False): \")\n",
    "XB = input(\"죄수 XB의 자백여부를 입력하세요 (True/False): \")\n",
    "\n",
    "\n",
    "if ( XA == 'False') & ( XB == 'False') :\n",
    "    YA = 1\n",
    "    YB = 1\n",
    "elif (XA and XB) == 'False' :\n",
    "    if XA == 'True':\n",
    "        YA = 0\n",
    "        YB = 10\n",
    "    else :\n",
    "        YA = 10\n",
    "        YB = 0\n",
    "else :\n",
    "    YA = 5\n",
    "    YB = 5\n",
    "\n",
    "print ('XA가 복역해야 할 연 수는:', YA)\n",
    "print ('XB가 복역해야 할 연 수는:', YB)"
   ]
  },
  {
   "cell_type": "code",
   "execution_count": 11,
   "metadata": {},
   "outputs": [
    {
     "name": "stdin",
     "output_type": "stream",
     "text": [
      "죄수 XA의 자백여부를 입력하세요 (True/False):  True\n",
      "죄수 XB의 자백여부를 입력하세요 (True/False):  True\n"
     ]
    },
    {
     "name": "stdout",
     "output_type": "stream",
     "text": [
      "XA가 복역해야 할 연 수는: 5\n",
      "XB가 복역해야 할 연 수는: 5\n"
     ]
    }
   ],
   "source": [
    "XA = input(\"죄수 XA의 자백여부를 입력하세요 (True/False): \")\n",
    "XB = input(\"죄수 XB의 자백여부를 입력하세요 (True/False): \")\n",
    "\n",
    "\n",
    "if XA == XB :\n",
    "    if XA == 'False':\n",
    "        YA = YB = 1\n",
    "    else :\n",
    "        YA = YB = 5\n",
    "else:\n",
    "    if XA == 'True':\n",
    "        YA = 0\n",
    "        YB = 10\n",
    "    else :\n",
    "        YA = 10\n",
    "        YB = 0\n",
    "\n",
    "\n",
    "print ('XA가 복역해야 할 연 수는:', YA)\n",
    "print ('XB가 복역해야 할 연 수는:', YB)"
   ]
  },
  {
   "cell_type": "code",
   "execution_count": 10,
   "metadata": {},
   "outputs": [
    {
     "name": "stdin",
     "output_type": "stream",
     "text": [
      " John\n",
      "나이를 입력하세요 : 24\n"
     ]
    },
    {
     "name": "stdout",
     "output_type": "stream",
     "text": [
      "추가완료. 최종 names의 dict는 : {'Mary': 12, 'Jane': 25, 'Tom': 20, 'John': 24}\n"
     ]
    }
   ],
   "source": [
    "names = {'Mary':12, 'Jane':25, 'Tom':20}\n",
    "\n",
    "# 이름을 받고, names에 없으면 나이를 추가로 입력받고 이 값으로 names 추가\n",
    "# 있다면, 값을 출력\n",
    "\n",
    "name = input()\n",
    "\n",
    "if name in names:\n",
    "    print(name, '의 나이는', names[name])\n",
    "    \n",
    "else:\n",
    "    names[name] = int(input('나이를 입력하세요 :'))\n",
    "    \n",
    "    print('추가완료. 최종 names의 dict는 :',names)\n"
   ]
  },
  {
   "cell_type": "code",
   "execution_count": null,
   "metadata": {},
   "outputs": [],
   "source": []
  }
 ],
 "metadata": {
  "kernelspec": {
   "display_name": "Python 3",
   "language": "python",
   "name": "python3"
  },
  "language_info": {
   "codemirror_mode": {
    "name": "ipython",
    "version": 3
   },
   "file_extension": ".py",
   "mimetype": "text/x-python",
   "name": "python",
   "nbconvert_exporter": "python",
   "pygments_lexer": "ipython3",
   "version": "3.7.3"
  }
 },
 "nbformat": 4,
 "nbformat_minor": 2
}
